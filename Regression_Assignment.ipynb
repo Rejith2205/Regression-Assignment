{
 "cells": [
  {
   "cell_type": "markdown",
   "id": "bfd0a46e-e4fa-403e-84a0-bf4f4d2a216b",
   "metadata": {},
   "source": [
    "# \"California Housing\" Supervised Learning -Regression Evaluation"
   ]
  },
  {
   "cell_type": "markdown",
   "id": "26f5bab6-75c3-4292-9ce9-4ccca5c95aca",
   "metadata": {},
   "source": [
    "***Import Libraries***"
   ]
  },
  {
   "cell_type": "code",
   "execution_count": 75,
   "id": "8c2d9596-fa8a-46b3-86ef-71aa9d1cb19e",
   "metadata": {},
   "outputs": [],
   "source": [
    "import warnings #Used to manage warning messages in Python\n",
    "import sys #Provides access to system-specific parameters and functions\n",
    "if not sys.warnoptions:\n",
    "    warnings.simplefilter(\"ignore\")\n",
    "import pandas as pd #A powerful library for data manipulation and analysis\n",
    "import numpy as np #Focused on numerical computations. It provides support for arrays, matrices, and mathematical functions\n",
    "import matplotlib.pyplot as plt #used for creating static, interactive, and animated visualizations like line plots, bar graphs, histograms, etc.\n",
    "import seaborn as sns #this library simplifies creating visually appealing and informative statistical graphics such as heatmaps and pair plots\n",
    "from scipy.stats import skew # tools for statistical computations such as calculating skewness, probability distributions, and hypothesis testing.\n",
    "from sklearn.preprocessing import StandardScaler #Used for feature scaling in machine learning.\n",
    "from sklearn.model_selection import train_test_split #Splits datasets into training and testing subsets\n",
    "from sklearn.linear_model import LinearRegression #Implements a simple and commonly used linear regression algorithm for predicting continuous outcomes.\n",
    "from sklearn.tree import DecisionTreeRegressor # decision tree regression model that splits the data into regions to make \n",
    "                                               #predictions based on tree-like structures.\n",
    "from sklearn.ensemble import RandomForestRegressor  # A powerful regression model that uses collection of decision trees to improve predictions \n",
    "from sklearn.ensemble import GradientBoostingRegressor # method that builds models iteratively to correct the errors of its predecessors \n",
    "                                                        #for achieving high accuracy\n",
    "from sklearn.svm import SVR # Implements Support Vector Regression, a technique that aims to fit the best possible hyperplane for predicting \n",
    "                            #continuous values\n",
    "# mean_squared_error- evaluate the quality of predictions made by regression model\n",
    "#mean_absolute_error -It measures the average magnitude of errors between the predicted and actual values\n",
    "# r2-score--It measures the proportion of the variance in the dependent variable (𝑦) that is predictable from the independent variables (𝑋)\n",
    "from sklearn.metrics import mean_squared_error,mean_absolute_error, r2_score\n",
    "                                                  "
   ]
  },
  {
   "cell_type": "markdown",
   "id": "3eb5132d-4ded-4e90-b057-fa345c78ed8e",
   "metadata": {},
   "source": [
    "# ***1.\tLoading and Preprocessing*** \n",
    "\n",
    "***Loading and Preprocessing--\n",
    "Load the California Housing dataset using the fetch_california_housing function from sklearn***"
   ]
  },
  {
   "cell_type": "code",
   "execution_count": 78,
   "id": "9551a8bc-2fb5-441f-8f73-0861a3f8b8cd",
   "metadata": {},
   "outputs": [],
   "source": [
    "from sklearn.datasets import fetch_california_housing\n",
    "# Load the California Housing dataset and stored in California_house_price\n",
    "california_house_price = fetch_california_housing()\n"
   ]
  },
  {
   "cell_type": "markdown",
   "id": "8b1bbc09-6835-4694-a2bc-d398f8a05334",
   "metadata": {},
   "source": [
    "***Convert the dataset into a pandas DataFrame for easier handling***"
   ]
  },
  {
   "cell_type": "code",
   "execution_count": 81,
   "id": "a6d91618-ee80-4873-a3ce-270e8c78909e",
   "metadata": {},
   "outputs": [
    {
     "name": "stdout",
     "output_type": "stream",
     "text": [
      "   MedInc  HouseAge  AveRooms  AveBedrms  Population  AveOccup  Latitude  \\\n",
      "0  8.3252      41.0  6.984127   1.023810       322.0  2.555556     37.88   \n",
      "1  8.3014      21.0  6.238137   0.971880      2401.0  2.109842     37.86   \n",
      "2  7.2574      52.0  8.288136   1.073446       496.0  2.802260     37.85   \n",
      "3  5.6431      52.0  5.817352   1.073059       558.0  2.547945     37.85   \n",
      "4  3.8462      52.0  6.281853   1.081081       565.0  2.181467     37.85   \n",
      "\n",
      "   Longitude  house_price  \n",
      "0    -122.23        4.526  \n",
      "1    -122.22        3.585  \n",
      "2    -122.24        3.521  \n",
      "3    -122.25        3.413  \n",
      "4    -122.25        3.422  \n"
     ]
    }
   ],
   "source": [
    "# creates a Pandas DataFrame from a dataset loaded using Scikit-learn\n",
    "df = pd.DataFrame(california_house_price.data, columns=california_house_price.feature_names)\n",
    "\n",
    "# Add the target column (house prices)\n",
    "df['house_price'] = california_house_price.target\n",
    "\n",
    "print(df.head(5))"
   ]
  },
  {
   "cell_type": "code",
   "execution_count": 83,
   "id": "3cc77ded-9726-43dc-8f92-f04587906ee0",
   "metadata": {},
   "outputs": [
    {
     "data": {
      "text/html": [
       "<div>\n",
       "<style scoped>\n",
       "    .dataframe tbody tr th:only-of-type {\n",
       "        vertical-align: middle;\n",
       "    }\n",
       "\n",
       "    .dataframe tbody tr th {\n",
       "        vertical-align: top;\n",
       "    }\n",
       "\n",
       "    .dataframe thead th {\n",
       "        text-align: right;\n",
       "    }\n",
       "</style>\n",
       "<table border=\"1\" class=\"dataframe\">\n",
       "  <thead>\n",
       "    <tr style=\"text-align: right;\">\n",
       "      <th></th>\n",
       "      <th>MedInc</th>\n",
       "      <th>HouseAge</th>\n",
       "      <th>AveRooms</th>\n",
       "      <th>AveBedrms</th>\n",
       "      <th>Population</th>\n",
       "      <th>AveOccup</th>\n",
       "      <th>Latitude</th>\n",
       "      <th>Longitude</th>\n",
       "      <th>house_price</th>\n",
       "    </tr>\n",
       "  </thead>\n",
       "  <tbody>\n",
       "    <tr>\n",
       "      <th>0</th>\n",
       "      <td>8.3252</td>\n",
       "      <td>41.0</td>\n",
       "      <td>6.984127</td>\n",
       "      <td>1.023810</td>\n",
       "      <td>322.0</td>\n",
       "      <td>2.555556</td>\n",
       "      <td>37.88</td>\n",
       "      <td>-122.23</td>\n",
       "      <td>4.526</td>\n",
       "    </tr>\n",
       "    <tr>\n",
       "      <th>1</th>\n",
       "      <td>8.3014</td>\n",
       "      <td>21.0</td>\n",
       "      <td>6.238137</td>\n",
       "      <td>0.971880</td>\n",
       "      <td>2401.0</td>\n",
       "      <td>2.109842</td>\n",
       "      <td>37.86</td>\n",
       "      <td>-122.22</td>\n",
       "      <td>3.585</td>\n",
       "    </tr>\n",
       "    <tr>\n",
       "      <th>2</th>\n",
       "      <td>7.2574</td>\n",
       "      <td>52.0</td>\n",
       "      <td>8.288136</td>\n",
       "      <td>1.073446</td>\n",
       "      <td>496.0</td>\n",
       "      <td>2.802260</td>\n",
       "      <td>37.85</td>\n",
       "      <td>-122.24</td>\n",
       "      <td>3.521</td>\n",
       "    </tr>\n",
       "    <tr>\n",
       "      <th>3</th>\n",
       "      <td>5.6431</td>\n",
       "      <td>52.0</td>\n",
       "      <td>5.817352</td>\n",
       "      <td>1.073059</td>\n",
       "      <td>558.0</td>\n",
       "      <td>2.547945</td>\n",
       "      <td>37.85</td>\n",
       "      <td>-122.25</td>\n",
       "      <td>3.413</td>\n",
       "    </tr>\n",
       "    <tr>\n",
       "      <th>4</th>\n",
       "      <td>3.8462</td>\n",
       "      <td>52.0</td>\n",
       "      <td>6.281853</td>\n",
       "      <td>1.081081</td>\n",
       "      <td>565.0</td>\n",
       "      <td>2.181467</td>\n",
       "      <td>37.85</td>\n",
       "      <td>-122.25</td>\n",
       "      <td>3.422</td>\n",
       "    </tr>\n",
       "  </tbody>\n",
       "</table>\n",
       "</div>"
      ],
      "text/plain": [
       "   MedInc  HouseAge  AveRooms  AveBedrms  Population  AveOccup  Latitude  \\\n",
       "0  8.3252      41.0  6.984127   1.023810       322.0  2.555556     37.88   \n",
       "1  8.3014      21.0  6.238137   0.971880      2401.0  2.109842     37.86   \n",
       "2  7.2574      52.0  8.288136   1.073446       496.0  2.802260     37.85   \n",
       "3  5.6431      52.0  5.817352   1.073059       558.0  2.547945     37.85   \n",
       "4  3.8462      52.0  6.281853   1.081081       565.0  2.181467     37.85   \n",
       "\n",
       "   Longitude  house_price  \n",
       "0    -122.23        4.526  \n",
       "1    -122.22        3.585  \n",
       "2    -122.24        3.521  \n",
       "3    -122.25        3.413  \n",
       "4    -122.25        3.422  "
      ]
     },
     "execution_count": 83,
     "metadata": {},
     "output_type": "execute_result"
    }
   ],
   "source": [
    "df.head(n=5)#will display the first 5 rows of your DataFrame"
   ]
  },
  {
   "cell_type": "code",
   "execution_count": 85,
   "id": "2caa980a-3382-4a7f-b708-3ce19bcc109e",
   "metadata": {},
   "outputs": [
    {
     "name": "stdout",
     "output_type": "stream",
     "text": [
      "<class 'pandas.core.frame.DataFrame'>\n",
      "RangeIndex: 20640 entries, 0 to 20639\n",
      "Data columns (total 9 columns):\n",
      " #   Column       Non-Null Count  Dtype  \n",
      "---  ------       --------------  -----  \n",
      " 0   MedInc       20640 non-null  float64\n",
      " 1   HouseAge     20640 non-null  float64\n",
      " 2   AveRooms     20640 non-null  float64\n",
      " 3   AveBedrms    20640 non-null  float64\n",
      " 4   Population   20640 non-null  float64\n",
      " 5   AveOccup     20640 non-null  float64\n",
      " 6   Latitude     20640 non-null  float64\n",
      " 7   Longitude    20640 non-null  float64\n",
      " 8   house_price  20640 non-null  float64\n",
      "dtypes: float64(9)\n",
      "memory usage: 1.4 MB\n"
     ]
    }
   ],
   "source": [
    "# summary of the DataFrame, including the number of non-null entries per column and data types\n",
    "df.info()  "
   ]
  },
  {
   "cell_type": "code",
   "execution_count": 87,
   "id": "bc9689f0-b9ca-4380-a01c-09b07a7c31a0",
   "metadata": {},
   "outputs": [
    {
     "data": {
      "text/plain": [
       "(20640, 9)"
      ]
     },
     "execution_count": 87,
     "metadata": {},
     "output_type": "execute_result"
    }
   ],
   "source": [
    "# information about the dimensions of the DataFrame, specifically the number of rows and columns.\n",
    "df.shape"
   ]
  },
  {
   "cell_type": "code",
   "execution_count": 89,
   "id": "b1d6eed0-6c67-4eb8-bd4c-ce8984524e11",
   "metadata": {},
   "outputs": [
    {
     "name": "stdout",
     "output_type": "stream",
     "text": [
      "Index(['MedInc', 'HouseAge', 'AveRooms', 'AveBedrms', 'Population', 'AveOccup',\n",
      "       'Latitude', 'Longitude', 'house_price'],\n",
      "      dtype='object')\n"
     ]
    }
   ],
   "source": [
    "#to print the column names & their order\n",
    "print(df.columns)"
   ]
  },
  {
   "cell_type": "code",
   "execution_count": 91,
   "id": "2e6bdef0-3a39-48f8-8802-554df35d94b3",
   "metadata": {},
   "outputs": [
    {
     "name": "stdout",
     "output_type": "stream",
     "text": [
      "MedInc         0\n",
      "HouseAge       0\n",
      "AveRooms       0\n",
      "AveBedrms      0\n",
      "Population     0\n",
      "AveOccup       0\n",
      "Latitude       0\n",
      "Longitude      0\n",
      "house_price    0\n",
      "dtype: int64\n"
     ]
    }
   ],
   "source": [
    "#to print the number of missing (NaN) values in each column of the DataFrame\n",
    "print(df.isnull().sum())"
   ]
  },
  {
   "cell_type": "code",
   "execution_count": 93,
   "id": "483fdcce-d23c-486d-819c-cc4741cfd4d6",
   "metadata": {},
   "outputs": [
    {
     "name": "stdout",
     "output_type": "stream",
     "text": [
      "Count of 0 values in each column:\n",
      "MedInc         0\n",
      "HouseAge       0\n",
      "AveRooms       0\n",
      "AveBedrms      0\n",
      "Population     0\n",
      "AveOccup       0\n",
      "Latitude       0\n",
      "Longitude      0\n",
      "house_price    0\n",
      "dtype: int64\n"
     ]
    }
   ],
   "source": [
    "# used to count the numberer times zero appears in each column\n",
    "zero_counts = (df == 0).sum()\n",
    "print(\"Count of 0 values in each column:\")\n",
    "print(zero_counts)"
   ]
  },
  {
   "cell_type": "code",
   "execution_count": 95,
   "id": "7e1da999-0016-48bf-badb-d47e2f138d86",
   "metadata": {},
   "outputs": [],
   "source": [
    "# Save a copy of the original file\n",
    "df.to_csv(\"california_house.csv\", index=False)"
   ]
  },
  {
   "cell_type": "markdown",
   "id": "a0dd0cdb-a584-4b44-b8c6-21a796c3545e",
   "metadata": {},
   "source": [
    "***Check the duplicate records***"
   ]
  },
  {
   "cell_type": "code",
   "execution_count": 98,
   "id": "3ce9ec02-edc9-4650-baf7-b3d118b43a02",
   "metadata": {},
   "outputs": [
    {
     "name": "stdout",
     "output_type": "stream",
     "text": [
      "Number of  duplicate records found.\n",
      "No duplicate records found.\n"
     ]
    }
   ],
   "source": [
    "# to check the number of duplicate rows in the Dataframe\n",
    "duplicates_count = df.duplicated().sum()\n",
    "\n",
    "# Print the count of duplicate records\n",
    "if duplicates_count > 0:\n",
    "    print(f\"\\nNumber of duplicate records: {duplicates_count}\\n\")\n",
    "else:\n",
    "    print(\"Number of  duplicate records found.\")\n",
    "    \n",
    "# Check for duplicates\n",
    "duplicates = df[df.duplicated()]\n",
    "# Print duplicates with header and all data\n",
    "if not duplicates.empty:\n",
    "    print(duplicates.to_string(index=False))\n",
    "else:\n",
    "    print(\"No duplicate records found.\")\n"
   ]
  },
  {
   "cell_type": "markdown",
   "id": "710626e0-34d2-4ecb-a577-8eed602bfbd7",
   "metadata": {},
   "source": [
    "***Boxplot to identify the outliers***"
   ]
  },
  {
   "cell_type": "code",
   "execution_count": 101,
   "id": "34a95164-642d-42d6-b921-99eb55a8ba3d",
   "metadata": {},
   "outputs": [
    {
     "data": {
      "image/png": "[encoded data removed]",
      "text/plain": [
       "<Figure size 640x480 with 1 Axes>"
      ]
     },
     "metadata": {},
     "output_type": "display_data"
    },
    {
     "data": {
      "image/png": "[encoded data removed]",
      "text/plain": [
       "<Figure size 640x480 with 1 Axes>"
      ]
     },
     "metadata": {},
     "output_type": "display_data"
    },
    {
     "data": {
      "image/png": "[encoded data removed]",
      "text/plain": [
       "<Figure size 640x480 with 1 Axes>"
      ]
     },
     "metadata": {},
     "output_type": "display_data"
    },
    {
     "data": {
      "image/png": "[encoded data removed]",
      "text/plain": [
       "<Figure size 640x480 with 1 Axes>"
      ]
     },
     "metadata": {},
     "output_type": "display_data"
    },
    {
     "data": {
      "image/png": "[encoded data removed]",
      "text/plain": [
       "<Figure size 640x480 with 1 Axes>"
      ]
     },
     "metadata": {},
     "output_type": "display_data"
    },
    {
     "data": {
      "image/png": "[encoded data removed]",
      "text/plain": [
       "<Figure size 640x480 with 1 Axes>"
      ]
     },
     "metadata": {},
     "output_type": "display_data"
    },
    {
     "data": {
      "image/png": "[encoded data removed]",
      "text/plain": [
       "<Figure size 640x480 with 1 Axes>"
      ]
     },
     "metadata": {},
     "output_type": "display_data"
    },
    {
     "data": {
      "image/png": "[encoded data removed]",
      "text/plain": [
       "<Figure size 640x480 with 1 Axes>"
      ]
     },
     "metadata": {},
     "output_type": "display_data"
    },
    {
     "data": {
      "image/png": "[encoded data removed]",
      "text/plain": [
       "<Figure size 640x480 with 1 Axes>"
      ]
     },
     "metadata": {},
     "output_type": "display_data"
    }
   ],
   "source": [
    "#BoxPlot to identify Outliers\n",
    "\n",
    "for i in df.select_dtypes(include=\"number\").columns:\n",
    "    sns.boxplot(data=df,x=i)\n",
    "    plt.show()"
   ]
  },
  {
   "cell_type": "markdown",
   "id": "5c94d847-9bcb-47b3-8ad5-621a06e27b51",
   "metadata": {},
   "source": [
    "***Find the skewness of each columns***"
   ]
  },
  {
   "cell_type": "code",
   "execution_count": 103,
   "id": "f4c27b8a-ecfc-44c7-935c-cf35f55c2e86",
   "metadata": {},
   "outputs": [
    {
     "name": "stdout",
     "output_type": "stream",
     "text": [
      "\n",
      "Skewness of each column:\n",
      "MedInc: 1.6465\n",
      "HouseAge: 0.0603\n",
      "AveRooms: 20.6964\n",
      "AveBedrms: 31.3147\n",
      "Population: 4.9355\n",
      "AveOccup: 97.6325\n",
      "Latitude: 0.4659\n",
      "Longitude: -0.2978\n",
      "house_price: 0.9777\n"
     ]
    }
   ],
   "source": [
    "# is used to calculate the skewness of each column in the DataFrame\n",
    "skew_values = skew(df, axis=0, bias=True)\n",
    "\n",
    "# Print skewness with column names\n",
    "print(\"\\nSkewness of each column:\")\n",
    "for col, skew_val in zip(df.columns, skew_values): #zip() function pairs each column name with its corresponding skewness value.\n",
    "    print(f\"{col}: {skew_val:.4f}\")  # Format to 4 decimal places"
   ]
  },
  {
   "cell_type": "markdown",
   "id": "a20e8d87-3875-4052-9586-db974500fff8",
   "metadata": {},
   "source": [
    "***based on the skewness identify which is right skewed and which is left skewed if there is any symmetrical***                                                                                                                                                                                                                                                                                                                         "
   ]
  },
  {
   "cell_type": "markdown",
   "id": "24f1d623-fd10-4a1a-977b-4aa36288f076",
   "metadata": {},
   "source": [
    " ***Skewness >               1.0 →              Highly skewed (right-tailed, large outliers).***  \n",
    " ***Skewness between      -1 and 1 →            Roughly normal (acceptable for models).***  \n",
    " ***Skewness <             -1.0 →               Highly left-skewed (rare in real estate data).***\n",
    "    \n",
    "    \n",
    "    \n",
    "    \n",
    "    \n",
    "    MedInc (Median Income)            \t 1.6465          \t  Moderately right-skewed  \n",
    "\n",
    "    HouseAge (Median House Age)     \t 0.0603\t              Nearly symmetrical  \n",
    "\n",
    "    AveRooms (Avg. Rooms per Household)\t 20.6963\t          Highly right-skewed (outliers present)\n",
    "\n",
    "\n",
    "    AveBedrms (Avg. Bedrooms per Household)\t  31.3147         Extremely right-skewed (outliers present)\n",
    "    Population                      \t4.9355                Highly right-skewed\n",
    "    \n",
    "    AveOccup (Avg. Occupants per Household)\t97.6324\t          Extremely right-skewed (severe outliers)\n",
    "    \n",
    "    Latitude\t                        0.4659\t              Slightly right-skewed\n",
    "    \n",
    "    Longitude\t                        -0.2977\t              Slightly left-skewed\n",
    "    \n",
    "    Target (House Price in $100,000s)\t0.9776\t              Moderately right-skewed"
   ]
  },
  {
   "cell_type": "markdown",
   "id": "e1175e73-ae95-47d9-ade0-2c179a993a01",
   "metadata": {},
   "source": [
    "   "
   ]
  },
  {
   "cell_type": "markdown",
   "id": "05e4510e-92bb-4351-8820-624c19bca4d6",
   "metadata": {},
   "source": [
    "***IQR Outlier Removal***"
   ]
  },
  {
   "cell_type": "code",
   "execution_count": 110,
   "id": "be9207e6-6550-4798-a347-0a2679a67f9a",
   "metadata": {
    "scrolled": true
   },
   "outputs": [
    {
     "name": "stdout",
     "output_type": "stream",
     "text": [
      "\n",
      "Skewness after Outlier Removal (IQR method):\n",
      "MedInc: 0.1330\n",
      "HouseAge: -0.2046\n",
      "AveRooms: -0.1855\n",
      "AveBedrms: 0.1675\n",
      "Population: 0.3531\n",
      "AveOccup: 0.1028\n",
      "Latitude: 0.3122\n",
      "Longitude: -0.3340\n",
      "house_price: 0.0478\n"
     ]
    }
   ],
   "source": [
    "# Apply IQR Outlier Removal\n",
    "for i in df.select_dtypes(include=['float64', 'int64']).columns:\n",
    "    Q1 = df[i].quantile(0.25)\n",
    "    Q3 = df[i].quantile(0.75)\n",
    "    IQR = Q3 - Q1\n",
    "    lower_bound = Q1 - 0.5 * IQR  # Mild outlier removal\n",
    "    upper_bound = Q3 + 0.5 * IQR\n",
    "    df = df[(df[i] >= lower_bound) & (df[i] <= upper_bound)]\n",
    "\n",
    "# Compute skewness after outlier removal\n",
    "skew_values_after = df.apply(skew, axis=0, bias=True)\n",
    "\n",
    "# Print skewness values\n",
    "print(\"\\nSkewness after Outlier Removal (IQR method):\")\n",
    "for col, skew_val in skew_values_after.items():\n",
    "    print(f\"{col}: {skew_val:.4f}\")"
   ]
  },
  {
   "cell_type": "markdown",
   "id": "91948324-c44e-4d0c-95fa-0be3d00726d2",
   "metadata": {},
   "source": [
    "    MedInc       0.1330\t Good \n",
    "    HouseAge\t-0.2046\t Good\t\n",
    "    AveRooms\t-0.1855\t Good\t\n",
    "    AveBedrms\t0.1675\t Perfectly Normal\t\n",
    "    Population\t0.3531\t Acceptable\t\n",
    "    AveOccup\t0.1028\t Perfectly \n",
    "    Latitude\t0.3122\t Good\t\n",
    "    Longitude\t-0.3340\t Good\t\n",
    "    House Price (Target)\t0.0478\t Good"
   ]
  },
  {
   "cell_type": "code",
   "execution_count": 113,
   "id": "6dfe50a3-95e9-4da1-9bd5-16fc2f991502",
   "metadata": {},
   "outputs": [
    {
     "data": {
      "image/png": "[encoded data removed]",
      "text/plain": [
       "<Figure size 640x480 with 1 Axes>"
      ]
     },
     "metadata": {},
     "output_type": "display_data"
    },
    {
     "data": {
      "image/png": "[encoded data removed]",
      "text/plain": [
       "<Figure size 640x480 with 1 Axes>"
      ]
     },
     "metadata": {},
     "output_type": "display_data"
    },
    {
     "data": {
      "image/png": "[encoded data removed]",
      "text/plain": [
       "<Figure size 640x480 with 1 Axes>"
      ]
     },
     "metadata": {},
     "output_type": "display_data"
    },
    {
     "data": {
      "image/png": "[encoded data removed]",
      "text/plain": [
       "<Figure size 640x480 with 1 Axes>"
      ]
     },
     "metadata": {},
     "output_type": "display_data"
    },
    {
     "data": {
      "image/png": "[encoded data removed]",
      "text/plain": [
       "<Figure size 640x480 with 1 Axes>"
      ]
     },
     "metadata": {},
     "output_type": "display_data"
    },
    {
     "data": {
      "image/png": "[encoded data removed]",
      "text/plain": [
       "<Figure size 640x480 with 1 Axes>"
      ]
     },
     "metadata": {},
     "output_type": "display_data"
    },
    {
     "data": {
      "image/png": "[encoded data removed]",
      "text/plain": [
       "<Figure size 640x480 with 1 Axes>"
      ]
     },
     "metadata": {},
     "output_type": "display_data"
    },
    {
     "data": {
      "image/png": "[encoded data removed]",
      "text/plain": [
       "<Figure size 640x480 with 1 Axes>"
      ]
     },
     "metadata": {},
     "output_type": "display_data"
    },
    {
     "data": {
      "image/png": "[encoded data removed]",
      "text/plain": [
       "<Figure size 640x480 with 1 Axes>"
      ]
     },
     "metadata": {},
     "output_type": "display_data"
    }
   ],
   "source": [
    "#BoxPlot to identify Outliers\n",
    "\n",
    "for i in df.select_dtypes(include=\"number\").columns:\n",
    "    sns.boxplot(data=df,x=i)\n",
    "    plt.show()"
   ]
  },
  {
   "cell_type": "markdown",
   "id": "825f1346-bcd3-4f0b-80a1-e0c36d202a6a",
   "metadata": {},
   "source": [
    "# Feature Scaling"
   ]
  },
  {
   "cell_type": "code",
   "execution_count": 116,
   "id": "1a850840-ee23-4d40-ace7-6bc2e6fc9e2d",
   "metadata": {},
   "outputs": [
    {
     "name": "stdout",
     "output_type": "stream",
     "text": [
      "\n",
      "X_train_scaled (first 5 rows):\n",
      " [[ 0.33621195 -1.17893135  0.2574451   1.07954456  0.09100798  1.39732814\n",
      "  -0.83184875  0.84020006]\n",
      " [-1.5481977   0.49769789 -0.34672166  0.53905598 -1.16574721 -1.87497022\n",
      "  -1.35669603  1.27811463]\n",
      " [-0.41210257 -1.49329933 -0.76018702  0.29309276 -0.12143285 -1.22427662\n",
      "   0.60176188 -0.13059849]\n",
      " [-0.83008924  0.18332991 -0.69531223  1.64673288  0.91840908  1.6990572\n",
      "  -0.73465481  0.92989341]\n",
      " [ 0.58071783  1.23122318 -0.35233964  0.38230222 -0.46133816 -1.39948422\n",
      "   1.02941522 -1.53931161]]\n",
      "\n",
      "X_test_scaled (first 5 rows):\n",
      " [[ 0.23906271 -0.2358274  -0.59889487 -0.17944334  1.00785784  0.16347889\n",
      "  -0.65203996  0.48142668]\n",
      " [-0.03850657  0.39290856 -0.4165399  -0.71674222  1.19122782 -0.39861208\n",
      "  -1.37127512  1.26756247]\n",
      " [ 1.01656282 -0.86456337  1.0516909   0.09178458  0.17598431  0.19392856\n",
      "  -0.63746086  0.53418748]\n",
      " [-2.06670119 -0.2358274  -0.76850409  0.56797741 -0.87727493 -1.95138284\n",
      "  -0.7443742   1.27811463]\n",
      " [ 1.53720931  0.9168552   0.50057794 -1.40929635 -1.05170003 -0.60774042\n",
      "   1.04399431 -1.37047708]]\n"
     ]
    }
   ],
   "source": [
    "# Define features (X) and target (y)\n",
    "X = df.drop(columns=['house_price'])  # Features\n",
    "y = df['house_price']  # Target variable\n",
    "\n",
    "# Split the data into training and testing sets (80% train, 20% test)\n",
    "X_train, X_test, y_train, y_test = train_test_split(X, y, test_size=0.2, random_state=42)\n",
    "\n",
    "# Apply StandardScaler\n",
    "scaler = StandardScaler()\n",
    "X_train_scaled = scaler.fit_transform(X_train)  # Fit & transform training data\n",
    "X_test_scaled = scaler.transform(X_test)  # Transform test data\n",
    "\n",
    "# Check transformed data\n",
    "print(\"\\nX_train_scaled (first 5 rows):\\n\", X_train_scaled[:5])\n",
    "print(\"\\nX_test_scaled (first 5 rows):\\n\", X_test_scaled[:5])\n"
   ]
  },
  {
   "cell_type": "markdown",
   "id": "84caaf5f-8114-4cf5-8369-9e942fa09ba1",
   "metadata": {},
   "source": [
    "# 2. Implement regression algorithms"
   ]
  },
  {
   "cell_type": "code",
   "execution_count": 134,
   "id": "46762f7e-aca3-4671-98d6-0608b935f77f",
   "metadata": {},
   "outputs": [
    {
     "name": "stdout",
     "output_type": "stream",
     "text": [
      "\n",
      "📊 Model Evaluation Results:\n",
      "\n",
      "\n",
      "Linear Regression:\n",
      "\n",
      "🔹 Mean Squared Error (MSE): 0.1523\n",
      "🔹 Mean Absolute Error (MAE): 0.3120\n",
      "🔹 R² Score: 0.5147\n",
      "\n",
      "Decision Tree Regressor:\n",
      "\n",
      "🔹 Mean Squared Error (MSE): 0.1670\n",
      "🔹 Mean Absolute Error (MAE): 0.2971\n",
      "🔹 R² Score: 0.4679\n",
      "\n",
      "Random Forest Regressor:\n",
      "\n",
      "🔹 Mean Squared Error (MSE): 0.0832\n",
      "🔹 Mean Absolute Error (MAE): 0.2160\n",
      "🔹 R² Score: 0.7348\n",
      "\n",
      "Gradient Boosting Regressor:\n",
      "\n",
      "🔹 Mean Squared Error (MSE): 0.0897\n",
      "🔹 Mean Absolute Error (MAE): 0.2334\n",
      "🔹 R² Score: 0.7140\n",
      "\n",
      "Support Vector Regressor:\n",
      "\n",
      "🔹 Mean Squared Error (MSE): 0.1222\n",
      "🔹 Mean Absolute Error (MAE): 0.2650\n",
      "🔹 R² Score: 0.6107\n",
      "                                  MSE       MAE        R2\n",
      "Linear Regression            0.152303  0.311968  0.514656\n",
      "Decision Tree Regressor      0.166989  0.297121  0.467859\n",
      "Random Forest Regressor      0.083229  0.216017  0.734776\n",
      "Gradient Boosting Regressor  0.089734  0.233413  0.714046\n",
      "Support Vector Regressor     0.122161  0.265030  0.610711\n"
     ]
    }
   ],
   "source": [
    "# Define models\n",
    "models = {\n",
    "    \"Linear Regression\": LinearRegression(),\n",
    "    \"Decision Tree Regressor\": DecisionTreeRegressor(random_state=42),\n",
    "    \"Random Forest Regressor\": RandomForestRegressor(n_estimators=100, random_state=42),\n",
    "    \"Gradient Boosting Regressor\": GradientBoostingRegressor(n_estimators=100, random_state=42),# ensure reproducibility\n",
    "    \"Support Vector Regressor\": SVR()\n",
    "}\n",
    "\n",
    "results = {}\n",
    "\n",
    "# Train and evaluate models\n",
    "for name, model in models.items():\n",
    "    model.fit(X_train_scaled, y_train)  # Train on scaled data\n",
    "    y_pred = model.predict(X_test_scaled)  # Predict on scaled test data\n",
    "    \n",
    "    # Compute evaluation metrics\n",
    "    mse = mean_squared_error(y_test, y_pred)\n",
    "    mae = mean_absolute_error(y_test, y_pred)\n",
    "    r2 = r2_score(y_test, y_pred)\n",
    "    \n",
    "    # Store results\n",
    "    results[name] = {'MSE': mse, 'MAE': mae, 'R2': r2}\n",
    "\n",
    "# Print results\n",
    "print(\"\\n📊 Model Evaluation Results:\\n\")\n",
    "for name, metrics in results.items():\n",
    "    print(f\"\\n{name}:\\n\")\n",
    "    print(f\"🔹 Mean Squared Error (MSE): {metrics['MSE']:.4f}\")\n",
    "    print(f\"🔹 Mean Absolute Error (MAE): {metrics['MAE']:.4f}\")\n",
    "    print(f\"🔹 R² Score: {metrics['R2']:.4f}\")\n",
    "\n",
    "# Convert results to DataFrame for easy comparison\n",
    "results_df = pd.DataFrame(results).T\n",
    "print(results_df)"
   ]
  },
  {
   "cell_type": "markdown",
   "id": "42bda96c-99be-48b2-86fa-2cf11d94dbae",
   "metadata": {},
   "source": [
    "***1. Linear Regression***\n",
    "\n",
    "•\tLinear Regression assumes a linear relationship between the independent variables (features) and the dependent variable (house price).  \n",
    "•\tSimple and interpretable.  \n",
    "•\tEfficient for large datasets with many observations.  \n",
    "•\tProvides clear insights into the effect of each feature.  \n",
    "•\tSensitive to outliers in the dataset.  \n",
    "\n",
    "•\tSuitable if the  house prices are linearly related to features However, this is often not the case in real estate data.  \n",
    "•\t\n",
    "***2. Decision Tree Regressor*** \n",
    "•\tDecision Trees model data by splitting it into subsets based on feature values.  \n",
    "•\tIt can capture non-linear relationships and interactions between features.  \n",
    "•\tHandles non-linear relationships effectively.  \n",
    "•\tWorks well with small to medium-sized datasets.  \n",
    "•\tEasy to interpret as it produces a tree-like structure.  \n",
    "•\tProne to overfitting, especially with deep trees.  \n",
    "•\tSensitivity to small changes in the data (can be unstable).  \n",
    "\n",
    "•\tSuitable when we want to capture non-linear relationships and interactions between features. Decision Trees can identify important features that contribute to house prices.\n",
    "\n",
    "***3. Random Forest Regressor***  \n",
    "•\tAn ensemble method that builds multiple decision trees and averages their predictions  \n",
    "•\tReduces overfitting by averaging the results of many trees.  \n",
    "•\tHandles non-linear relationships effectively.  \n",
    "•\tReduces overfitting through bootstrapping (sampling with replacement) and random feature selection.  \n",
    "•\tWorks well with large datasets and high-dimensional data.  \n",
    "•\tMore complex to tune compared to a single decision tree.  \n",
    "•\tCan be computationally expensive for very large datasets.  \n",
    "\n",
    "•\tSuitable when we want to reduce overfitting and improve the robustness of predictions. Random Forest can handle interactions between features well, which are common in house pricing data.    \n",
    "\n",
    "\n",
    "***4. Gradient Boosting Regresso***  \n",
    "•\tBuilds trees sequentially, where each tree corrects the errors of previous ones.  \n",
    "•\tVery powerful for regression tasks.   \n",
    "•\tHighly effective for capturing complex patterns in data.  \n",
    "•\tHandles non-linear relationships and interactions well.  \n",
    "•\tTunable to avoid overfitting through hyperparameter tuning.  \n",
    "•\tMore computationally intensive than simpler models.  \n",
    "•\tRequires careful tuning of parameters to avoid overfitting.  \n",
    "\n",
    "•\tGradient Boosting is very effective in this dataset due to its ability to handle complex patterns and interactions.  \n",
    "•\tHandles non-linear relationships and interactions well, which are common in real estate data.  \n",
    "\n",
    "***5. Support Vector Regressor (SVR)***   \n",
    "•\tA type of support vector machine that can be used for regression tasks.  \n",
    "•\tFinds the optimal hyperplane to fit the data using kernel functions.  \n",
    "•\tCan handle non-linear relationships using kernel functions.  \n",
    "•\tEffective in high-dimensional spaces and small datasets.  \n",
    "•\tSensitive to outliers due to its use of hinge loss.  \n",
    "•\tComputationally intensive, especially with large datasets and complex kernels.  \n",
    "\n",
    "•\tSuitable when we have a small dataset or need to handle non-linear relationships. SVR can be effective if the relationship is not strictly linear but can be captured using a kernel.  \n",
    "•\tHandles interactions between features well, which are common in house pricing data. \n",
    "\n",
    "***For the California Housing Dataset, Gradient Boosting Regressor is a strong choice due to its ability to capture complex interactions and patterns effectively***  \n"
   ]
  },
  {
   "cell_type": "code",
   "execution_count": 121,
   "id": "ae47c506-8dea-4e10-a18f-fec6f59960d4",
   "metadata": {},
   "outputs": [
    {
     "name": "stdout",
     "output_type": "stream",
     "text": [
      "                                  MSE       MAE        R2\n",
      "Linear Regression            0.152303  0.311968  0.514656\n",
      "Decision Tree Regressor      0.166989  0.297121  0.467859\n",
      "Random Forest Regressor      0.083229  0.216017  0.734776\n",
      "Gradient Boosting Regressor  0.089734  0.233413  0.714046\n",
      "Support Vector Regressor     0.122161  0.265030  0.610711\n"
     ]
    }
   ],
   "source": [
    "# Convert results to DataFrame for easy comparison\n",
    "results_df = pd.DataFrame(results).T #T is used to transpose the DataFrame, swapping rows with column\n",
    "print(results_df)"
   ]
  },
  {
   "cell_type": "markdown",
   "id": "32df6d60-b6a1-4f06-bad6-1e786b690237",
   "metadata": {},
   "source": [
    "***Random Forest Regressor has the lowest MSE (0.083229) and MAE (0.216017), and the highest R² (0.734776). This indicates that Random Forest is capturing the variability in housing prices the best, making it the top-performing model.***\n",
    "\n",
    "***On the other hand, Decision Tree Regressor shows the highest MSE (0.166989), the lowest R² (0.467859), and its MAE is also relatively higher compared to some models. This suggests that while Decision Trees are good at capturing non-linear relationships, on its own it may overfit or fail to generalize as well as the ensemble methods in this scenario.***\n"
   ]
  },
  {
   "cell_type": "code",
   "execution_count": 125,
   "id": "d890dc3a-7c05-4442-af93-83418a394a0e",
   "metadata": {},
   "outputs": [
    {
     "name": "stdout",
     "output_type": "stream",
     "text": [
      "Worst-performing model: Decision Tree Regressor\n"
     ]
    }
   ],
   "source": [
    "worst_model = min(results, key=lambda x: results[x]['R2'])\n",
    "print(f\"Worst-performing model: {worst_model}\")"
   ]
  },
  {
   "cell_type": "code",
   "execution_count": 127,
   "id": "149ec665-2ffc-4a2a-b408-deb1375e10e0",
   "metadata": {},
   "outputs": [
    {
     "name": "stdout",
     "output_type": "stream",
     "text": [
      "Best-performing model: Random Forest Regressor\n"
     ]
    }
   ],
   "source": [
    "best_model = max(results, key=lambda x: results[x]['R2'])\n",
    "print(f\"Best-performing model: {best_model}\")"
   ]
  }
 ],
 "metadata": {
  "kernelspec": {
   "display_name": "Python 3 (ipykernel)",
   "language": "python",
   "name": "python3"
  },
  "language_info": {
   "codemirror_mode": {
    "name": "ipython",
    "version": 3
   },
   "file_extension": ".py",
   "mimetype": "text/x-python",
   "name": "python",
   "nbconvert_exporter": "python",
   "pygments_lexer": "ipython3",
   "version": "3.12.7"
  }
 },
 "nbformat": 4,
 "nbformat_minor": 5
}
